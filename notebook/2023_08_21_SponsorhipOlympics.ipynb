{
  "nbformat": 4,
  "nbformat_minor": 0,
  "metadata": {
    "colab": {
      "provenance": [],
      "authorship_tag": "ABX9TyP64korUYw4AbevYGamw4V4",
      "include_colab_link": true
    },
    "kernelspec": {
      "name": "python3",
      "display_name": "Python 3"
    },
    "language_info": {
      "name": "python"
    }
  },
  "cells": [
    {
      "cell_type": "markdown",
      "metadata": {
        "id": "view-in-github",
        "colab_type": "text"
      },
      "source": [
        "<a href=\"https://colab.research.google.com/github/ialegre/SMA/blob/main/2023_08_21_SponsorhipOlympics.ipynb\" target=\"_parent\"><img src=\"https://colab.research.google.com/assets/colab-badge.svg\" alt=\"Open In Colab\"/></a>"
      ]
    },
    {
      "cell_type": "code",
      "execution_count": null,
      "metadata": {
        "id": "gNDdCHUlrhBI"
      },
      "outputs": [],
      "source": [
        "import pandas as pd\n",
        "import matplotlib.pyplot as plt"
      ]
    },
    {
      "cell_type": "code",
      "source": [
        "df=pd.read_csv('/content/2. Twitter_SponsorshipOlympics_Data.csv', encoding='latin1')"
      ],
      "metadata": {
        "id": "oq1McNnQyLNz"
      },
      "execution_count": null,
      "outputs": []
    },
    {
      "cell_type": "code",
      "source": [
        "df.head(10)"
      ],
      "metadata": {
        "id": "XunagvV0su5L"
      },
      "execution_count": null,
      "outputs": []
    },
    {
      "cell_type": "markdown",
      "source": [
        "A. How many tweets mention Cartier? How many mention Rolex and how many mention Omega?\n"
      ],
      "metadata": {
        "id": "SCBus9cIk_lH"
      }
    },
    {
      "cell_type": "code",
      "source": [
        "brand_counts = df['Brand'].value_counts()\n",
        "print(brand_counts)\n",
        "brand_counts.plot(kind='bar')\n",
        "plt.show()"
      ],
      "metadata": {
        "colab": {
          "base_uri": "https://localhost:8080/",
          "height": 535
        },
        "id": "b1vGMQkXy4Ok",
        "outputId": "23e20a76-1fcf-4061-b92d-ac105e0254d2"
      },
      "execution_count": null,
      "outputs": [
        {
          "output_type": "stream",
          "name": "stdout",
          "text": [
            "Rolex      5178\n",
            "Cartier    3727\n",
            "Omega      2859\n",
            "Name: Brand, dtype: int64\n"
          ]
        },
        {
          "output_type": "display_data",
          "data": {
            "text/plain": [
              "<Figure size 640x480 with 1 Axes>"
            ],
            "image/png": "[encoded data removed]"
          },
          "metadata": {}
        }
      ]
    },
    {
      "cell_type": "markdown",
      "source": [
        "Check duplicates"
      ],
      "metadata": {
        "id": "LhpUAIfgy1WJ"
      }
    },
    {
      "cell_type": "code",
      "source": [
        "duplicate_count = df.duplicated(subset=['status_id']).sum()\n",
        "print(duplicate_count)\n",
        "print(df[df.duplicated(subset=['status_id'])].head())\n",
        "cartier_mentions = df['text'].str.lower().str.contains('cartier').sum()\n",
        "omega_mentions = df['text'].str.lower().str.contains('omega').sum()\n",
        "rolex_mentions = df['text'].str.lower().str.contains('rolex').sum()\n",
        "print(cartier_mentions)\n",
        "print(omega_mentions)\n",
        "print(rolex_mentions)"
      ],
      "metadata": {
        "colab": {
          "base_uri": "https://localhost:8080/"
        },
        "id": "Lf-eb1Mly8yO",
        "outputId": "264dc245-3578-4e33-bc8b-52fcd549467c"
      },
      "execution_count": null,
      "outputs": [
        {
          "output_type": "stream",
          "name": "stdout",
          "text": [
            "1508\n",
            "      Unnamed: 0              user_id            status_id  \\\n",
            "1101        1102            446009561  1417075119734722563   \n",
            "1102        1103           2553331622  1417067032730873862   \n",
            "1103        1104           2553331622  1417064941702598657   \n",
            "1106        1107   777134749424820224  1417037988501016578   \n",
            "1107        1108  1373545271389458432  1417032423334940676   \n",
            "\n",
            "               created_at    screen_name  \\\n",
            "1101  2021-07-19 10:53:31   Spmcgrath123   \n",
            "1102  2021-07-19 10:21:23     MSDEHKHODA   \n",
            "1103  2021-07-19 10:13:04     MSDEHKHODA   \n",
            "1106  2021-07-19 08:25:58  WildmanPammer   \n",
            "1107  2021-07-19 08:03:51  Johnm55421112   \n",
            "\n",
            "                                                   text               source  \\\n",
            "1101  My Internal inertia is too Great to let extern...   Twitter for iPhone   \n",
            "1102  @C4mi13 @srihariravi12 @ROLEX Rafans when they...   Twitter for iPhone   \n",
            "1103  @C4mi13 @srihariravi12 One of many double matc...   Twitter for iPhone   \n",
            "1106  @garyevanspro @euLegendsTour @ROLEX God Bless ...  Twitter for Android   \n",
            "1107  @jamesmartinchef  love your @ROLEX collection ...   Twitter for iPhone   \n",
            "\n",
            "      display_text_width  is_quote  is_retweet  ...  favourites_count  \\\n",
            "1101                 158     False       False  ...               382   \n",
            "1102                 103     False       False  ...              7823   \n",
            "1103                  64     False       False  ...              7823   \n",
            "1106                  14     False       False  ...             68674   \n",
            "1107                 110     False       False  ...                 1   \n",
            "\n",
            "       account_created_at  verified  profile_url profile_expanded_url  \\\n",
            "1101  2011-12-25 05:57:18      True          NaN                  NaN   \n",
            "1102  2014-06-07 21:33:57     False          NaN                  NaN   \n",
            "1103  2014-06-07 21:33:57     False          NaN                  NaN   \n",
            "1106  2016-09-17 13:18:57     False          NaN                  NaN   \n",
            "1107  2021-03-21 08:01:44     False          NaN                  NaN   \n",
            "\n",
            "     account_lang                                 profile_banner_url  \\\n",
            "1101          NaN  https://pbs.twimg.com/profile_banners/44600956...   \n",
            "1102          NaN  https://pbs.twimg.com/profile_banners/25533316...   \n",
            "1103          NaN  https://pbs.twimg.com/profile_banners/25533316...   \n",
            "1106          NaN  https://pbs.twimg.com/profile_banners/77713474...   \n",
            "1107          NaN                                                NaN   \n",
            "\n",
            "                                profile_background_url  \\\n",
            "1101  http://abs.twimg.com/images/themes/theme1/bg.png   \n",
            "1102  http://abs.twimg.com/images/themes/theme1/bg.png   \n",
            "1103  http://abs.twimg.com/images/themes/theme1/bg.png   \n",
            "1106                                               NaN   \n",
            "1107                                               NaN   \n",
            "\n",
            "                                      profile_image_url  Brand  \n",
            "1101  http://pbs.twimg.com/profile_images/1299822093...  Rolex  \n",
            "1102  http://pbs.twimg.com/profile_images/1149258506...  Rolex  \n",
            "1103  http://pbs.twimg.com/profile_images/1149258506...  Rolex  \n",
            "1106  http://pbs.twimg.com/profile_images/1270707540...  Rolex  \n",
            "1107  http://pbs.twimg.com/profile_images/1373545695...  Rolex  \n",
            "\n",
            "[5 rows x 77 columns]\n",
            "3778\n",
            "2916\n",
            "5288\n"
          ]
        }
      ]
    },
    {
      "cell_type": "markdown",
      "source": [
        "B. Do we see a change on the amount of Omega tweets with respect to Rolex and Cartier?"
      ],
      "metadata": {
        "id": "aN8v-dxr43Hu"
      }
    },
    {
      "cell_type": "code",
      "source": [
        "df['created_at'] = pd.to_datetime(df['created_at'])\n",
        "df['date'] = df['created_at'].dt.strftime('%m-%d')\n",
        "brand_date_counts = df.groupby(['Brand', 'date']).size().unstack(fill_value=0)\n",
        "brand_date_counts.plot(kind='line', y='Cartier', color='blue')\n",
        "brand_date_counts.plot(kind='line', y='Rolex', color='red')\n",
        "brand_date_counts.plot(kind='line', y='Omega', color='green')\n",
        "plt.show()"
      ],
      "metadata": {
        "colab": {
          "base_uri": "https://localhost:8080/",
          "height": 512
        },
        "id": "OPN2oH6H47Yr",
        "outputId": "bcd72927-1892-4cfb-a1c1-a15b63565ddd"
      },
      "execution_count": null,
      "outputs": [
        {
          "output_type": "error",
          "ename": "KeyError",
          "evalue": "ignored",
          "traceback": [
            "\u001b[0;31m---------------------------------------------------------------------------\u001b[0m",
            "\u001b[0;31mKeyError\u001b[0m                                  Traceback (most recent call last)",
            "\u001b[0;32m/usr/local/lib/python3.10/dist-packages/pandas/core/indexes/base.py\u001b[0m in \u001b[0;36mget_loc\u001b[0;34m(self, key, method, tolerance)\u001b[0m\n\u001b[1;32m   3801\u001b[0m             \u001b[0;32mtry\u001b[0m\u001b[0;34m:\u001b[0m\u001b[0;34m\u001b[0m\u001b[0;34m\u001b[0m\u001b[0m\n\u001b[0;32m-> 3802\u001b[0;31m                 \u001b[0;32mreturn\u001b[0m \u001b[0mself\u001b[0m\u001b[0;34m.\u001b[0m\u001b[0m_engine\u001b[0m\u001b[0;34m.\u001b[0m\u001b[0mget_loc\u001b[0m\u001b[0;34m(\u001b[0m\u001b[0mcasted_key\u001b[0m\u001b[0;34m)\u001b[0m\u001b[0;34m\u001b[0m\u001b[0;34m\u001b[0m\u001b[0m\n\u001b[0m\u001b[1;32m   3803\u001b[0m             \u001b[0;32mexcept\u001b[0m \u001b[0mKeyError\u001b[0m \u001b[0;32mas\u001b[0m \u001b[0merr\u001b[0m\u001b[0;34m:\u001b[0m\u001b[0;34m\u001b[0m\u001b[0;34m\u001b[0m\u001b[0m\n",
            "\u001b[0;32m/usr/local/lib/python3.10/dist-packages/pandas/_libs/index.pyx\u001b[0m in \u001b[0;36mpandas._libs.index.IndexEngine.get_loc\u001b[0;34m()\u001b[0m\n",
            "\u001b[0;32m/usr/local/lib/python3.10/dist-packages/pandas/_libs/index.pyx\u001b[0m in \u001b[0;36mpandas._libs.index.IndexEngine.get_loc\u001b[0;34m()\u001b[0m\n",
            "\u001b[0;32mpandas/_libs/hashtable_class_helper.pxi\u001b[0m in \u001b[0;36mpandas._libs.hashtable.PyObjectHashTable.get_item\u001b[0;34m()\u001b[0m\n",
            "\u001b[0;32mpandas/_libs/hashtable_class_helper.pxi\u001b[0m in \u001b[0;36mpandas._libs.hashtable.PyObjectHashTable.get_item\u001b[0;34m()\u001b[0m\n",
            "\u001b[0;31mKeyError\u001b[0m: 'Cartier'",
            "\nThe above exception was the direct cause of the following exception:\n",
            "\u001b[0;31mKeyError\u001b[0m                                  Traceback (most recent call last)",
            "\u001b[0;32m<ipython-input-8-d20a89624bf0>\u001b[0m in \u001b[0;36m<cell line: 4>\u001b[0;34m()\u001b[0m\n\u001b[1;32m      2\u001b[0m \u001b[0mdf\u001b[0m\u001b[0;34m[\u001b[0m\u001b[0;34m'date'\u001b[0m\u001b[0;34m]\u001b[0m \u001b[0;34m=\u001b[0m \u001b[0mdf\u001b[0m\u001b[0;34m[\u001b[0m\u001b[0;34m'created_at'\u001b[0m\u001b[0;34m]\u001b[0m\u001b[0;34m.\u001b[0m\u001b[0mdt\u001b[0m\u001b[0;34m.\u001b[0m\u001b[0mstrftime\u001b[0m\u001b[0;34m(\u001b[0m\u001b[0;34m'%m-%d'\u001b[0m\u001b[0;34m)\u001b[0m\u001b[0;34m\u001b[0m\u001b[0;34m\u001b[0m\u001b[0m\n\u001b[1;32m      3\u001b[0m \u001b[0mbrand_date_counts\u001b[0m \u001b[0;34m=\u001b[0m \u001b[0mdf\u001b[0m\u001b[0;34m.\u001b[0m\u001b[0mgroupby\u001b[0m\u001b[0;34m(\u001b[0m\u001b[0;34m[\u001b[0m\u001b[0;34m'Brand'\u001b[0m\u001b[0;34m,\u001b[0m \u001b[0;34m'date'\u001b[0m\u001b[0;34m]\u001b[0m\u001b[0;34m)\u001b[0m\u001b[0;34m.\u001b[0m\u001b[0msize\u001b[0m\u001b[0;34m(\u001b[0m\u001b[0;34m)\u001b[0m\u001b[0;34m.\u001b[0m\u001b[0munstack\u001b[0m\u001b[0;34m(\u001b[0m\u001b[0mfill_value\u001b[0m\u001b[0;34m=\u001b[0m\u001b[0;36m0\u001b[0m\u001b[0;34m)\u001b[0m\u001b[0;34m\u001b[0m\u001b[0;34m\u001b[0m\u001b[0m\n\u001b[0;32m----> 4\u001b[0;31m \u001b[0mbrand_date_counts\u001b[0m\u001b[0;34m.\u001b[0m\u001b[0mplot\u001b[0m\u001b[0;34m(\u001b[0m\u001b[0mkind\u001b[0m\u001b[0;34m=\u001b[0m\u001b[0;34m'line'\u001b[0m\u001b[0;34m,\u001b[0m \u001b[0my\u001b[0m\u001b[0;34m=\u001b[0m\u001b[0;34m'Cartier'\u001b[0m\u001b[0;34m,\u001b[0m \u001b[0mcolor\u001b[0m\u001b[0;34m=\u001b[0m\u001b[0;34m'blue'\u001b[0m\u001b[0;34m)\u001b[0m\u001b[0;34m\u001b[0m\u001b[0;34m\u001b[0m\u001b[0m\n\u001b[0m\u001b[1;32m      5\u001b[0m \u001b[0mbrand_date_counts\u001b[0m\u001b[0;34m.\u001b[0m\u001b[0mplot\u001b[0m\u001b[0;34m(\u001b[0m\u001b[0mkind\u001b[0m\u001b[0;34m=\u001b[0m\u001b[0;34m'line'\u001b[0m\u001b[0;34m,\u001b[0m \u001b[0my\u001b[0m\u001b[0;34m=\u001b[0m\u001b[0;34m'Rolex'\u001b[0m\u001b[0;34m,\u001b[0m \u001b[0mcolor\u001b[0m\u001b[0;34m=\u001b[0m\u001b[0;34m'red'\u001b[0m\u001b[0;34m)\u001b[0m\u001b[0;34m\u001b[0m\u001b[0;34m\u001b[0m\u001b[0m\n\u001b[1;32m      6\u001b[0m \u001b[0mbrand_date_counts\u001b[0m\u001b[0;34m.\u001b[0m\u001b[0mplot\u001b[0m\u001b[0;34m(\u001b[0m\u001b[0mkind\u001b[0m\u001b[0;34m=\u001b[0m\u001b[0;34m'line'\u001b[0m\u001b[0;34m,\u001b[0m \u001b[0my\u001b[0m\u001b[0;34m=\u001b[0m\u001b[0;34m'Omega'\u001b[0m\u001b[0;34m,\u001b[0m \u001b[0mcolor\u001b[0m\u001b[0;34m=\u001b[0m\u001b[0;34m'green'\u001b[0m\u001b[0;34m)\u001b[0m\u001b[0;34m\u001b[0m\u001b[0;34m\u001b[0m\u001b[0m\n",
            "\u001b[0;32m/usr/local/lib/python3.10/dist-packages/pandas/plotting/_core.py\u001b[0m in \u001b[0;36m__call__\u001b[0;34m(self, *args, **kwargs)\u001b[0m\n\u001b[1;32m    984\u001b[0m \u001b[0;34m\u001b[0m\u001b[0m\n\u001b[1;32m    985\u001b[0m                 \u001b[0;31m# don't overwrite\u001b[0m\u001b[0;34m\u001b[0m\u001b[0;34m\u001b[0m\u001b[0m\n\u001b[0;32m--> 986\u001b[0;31m                 \u001b[0mdata\u001b[0m \u001b[0;34m=\u001b[0m \u001b[0mdata\u001b[0m\u001b[0;34m[\u001b[0m\u001b[0my\u001b[0m\u001b[0;34m]\u001b[0m\u001b[0;34m.\u001b[0m\u001b[0mcopy\u001b[0m\u001b[0;34m(\u001b[0m\u001b[0;34m)\u001b[0m\u001b[0;34m\u001b[0m\u001b[0;34m\u001b[0m\u001b[0m\n\u001b[0m\u001b[1;32m    987\u001b[0m \u001b[0;34m\u001b[0m\u001b[0m\n\u001b[1;32m    988\u001b[0m                 \u001b[0;32mif\u001b[0m \u001b[0misinstance\u001b[0m\u001b[0;34m(\u001b[0m\u001b[0mdata\u001b[0m\u001b[0;34m,\u001b[0m \u001b[0mABCSeries\u001b[0m\u001b[0;34m)\u001b[0m\u001b[0;34m:\u001b[0m\u001b[0;34m\u001b[0m\u001b[0;34m\u001b[0m\u001b[0m\n",
            "\u001b[0;32m/usr/local/lib/python3.10/dist-packages/pandas/core/frame.py\u001b[0m in \u001b[0;36m__getitem__\u001b[0;34m(self, key)\u001b[0m\n\u001b[1;32m   3805\u001b[0m             \u001b[0;32mif\u001b[0m \u001b[0mself\u001b[0m\u001b[0;34m.\u001b[0m\u001b[0mcolumns\u001b[0m\u001b[0;34m.\u001b[0m\u001b[0mnlevels\u001b[0m \u001b[0;34m>\u001b[0m \u001b[0;36m1\u001b[0m\u001b[0;34m:\u001b[0m\u001b[0;34m\u001b[0m\u001b[0;34m\u001b[0m\u001b[0m\n\u001b[1;32m   3806\u001b[0m                 \u001b[0;32mreturn\u001b[0m \u001b[0mself\u001b[0m\u001b[0;34m.\u001b[0m\u001b[0m_getitem_multilevel\u001b[0m\u001b[0;34m(\u001b[0m\u001b[0mkey\u001b[0m\u001b[0;34m)\u001b[0m\u001b[0;34m\u001b[0m\u001b[0;34m\u001b[0m\u001b[0m\n\u001b[0;32m-> 3807\u001b[0;31m             \u001b[0mindexer\u001b[0m \u001b[0;34m=\u001b[0m \u001b[0mself\u001b[0m\u001b[0;34m.\u001b[0m\u001b[0mcolumns\u001b[0m\u001b[0;34m.\u001b[0m\u001b[0mget_loc\u001b[0m\u001b[0;34m(\u001b[0m\u001b[0mkey\u001b[0m\u001b[0;34m)\u001b[0m\u001b[0;34m\u001b[0m\u001b[0;34m\u001b[0m\u001b[0m\n\u001b[0m\u001b[1;32m   3808\u001b[0m             \u001b[0;32mif\u001b[0m \u001b[0mis_integer\u001b[0m\u001b[0;34m(\u001b[0m\u001b[0mindexer\u001b[0m\u001b[0;34m)\u001b[0m\u001b[0;34m:\u001b[0m\u001b[0;34m\u001b[0m\u001b[0;34m\u001b[0m\u001b[0m\n\u001b[1;32m   3809\u001b[0m                 \u001b[0mindexer\u001b[0m \u001b[0;34m=\u001b[0m \u001b[0;34m[\u001b[0m\u001b[0mindexer\u001b[0m\u001b[0;34m]\u001b[0m\u001b[0;34m\u001b[0m\u001b[0;34m\u001b[0m\u001b[0m\n",
            "\u001b[0;32m/usr/local/lib/python3.10/dist-packages/pandas/core/indexes/base.py\u001b[0m in \u001b[0;36mget_loc\u001b[0;34m(self, key, method, tolerance)\u001b[0m\n\u001b[1;32m   3802\u001b[0m                 \u001b[0;32mreturn\u001b[0m \u001b[0mself\u001b[0m\u001b[0;34m.\u001b[0m\u001b[0m_engine\u001b[0m\u001b[0;34m.\u001b[0m\u001b[0mget_loc\u001b[0m\u001b[0;34m(\u001b[0m\u001b[0mcasted_key\u001b[0m\u001b[0;34m)\u001b[0m\u001b[0;34m\u001b[0m\u001b[0;34m\u001b[0m\u001b[0m\n\u001b[1;32m   3803\u001b[0m             \u001b[0;32mexcept\u001b[0m \u001b[0mKeyError\u001b[0m \u001b[0;32mas\u001b[0m \u001b[0merr\u001b[0m\u001b[0;34m:\u001b[0m\u001b[0;34m\u001b[0m\u001b[0;34m\u001b[0m\u001b[0m\n\u001b[0;32m-> 3804\u001b[0;31m                 \u001b[0;32mraise\u001b[0m \u001b[0mKeyError\u001b[0m\u001b[0;34m(\u001b[0m\u001b[0mkey\u001b[0m\u001b[0;34m)\u001b[0m \u001b[0;32mfrom\u001b[0m \u001b[0merr\u001b[0m\u001b[0;34m\u001b[0m\u001b[0;34m\u001b[0m\u001b[0m\n\u001b[0m\u001b[1;32m   3805\u001b[0m             \u001b[0;32mexcept\u001b[0m \u001b[0mTypeError\u001b[0m\u001b[0;34m:\u001b[0m\u001b[0;34m\u001b[0m\u001b[0;34m\u001b[0m\u001b[0m\n\u001b[1;32m   3806\u001b[0m                 \u001b[0;31m# If we have a listlike key, _check_indexing_error will raise\u001b[0m\u001b[0;34m\u001b[0m\u001b[0;34m\u001b[0m\u001b[0m\n",
            "\u001b[0;31mKeyError\u001b[0m: 'Cartier'"
          ]
        }
      ]
    },
    {
      "cell_type": "markdown",
      "source": [
        "Detail of Cartier"
      ],
      "metadata": {
        "id": "HS99463z5Etd"
      }
    },
    {
      "cell_type": "code",
      "source": [
        "cartier = df[df['Brand'] == 'Cartier']\n",
        "cartier_tail = cartier[cartier['date'] == '07-04'].tail(10)\n",
        "print(cartier_tail)\n",
        "cartier_mean_mentions = cartier[cartier['date'] == '07-04']['text'].str.contains('@Bangtan_Style07').mean()\n",
        "print(cartier_mean_mentions)"
      ],
      "metadata": {
        "colab": {
          "base_uri": "https://localhost:8080/"
        },
        "id": "OjxTJQ2G5GlF",
        "outputId": "feb574ba-d861-403f-a31d-d11fc496b05d"
      },
      "execution_count": null,
      "outputs": [
        {
          "output_type": "stream",
          "name": "stdout",
          "text": [
            "      Unnamed: 0              user_id            status_id  \\\n",
            "8292       31171            202832040  1411528473471066119   \n",
            "8294       31191            118990336  1411535538180419589   \n",
            "8295       31201            118990336  1411536357982277635   \n",
            "8296       31211   942617876116262912  1411533552471117825   \n",
            "8300       31251  1406396863520071683  1411519422603223042   \n",
            "8301       31261           2147806867  1411511411264692230   \n",
            "8302       31271            165456141  1411506597206056963   \n",
            "8303       31281             57640635  1411506587995234307   \n",
            "8304       31291  1398143887617576966  1411495559383248899   \n",
            "8305       31301             19622952  1411485849137549312   \n",
            "\n",
            "              created_at     screen_name  \\\n",
            "8292 2021-07-04 03:33:07   MagdaRomanska   \n",
            "8294 2021-07-04 04:01:12   jeremyoharris   \n",
            "8295 2021-07-04 04:04:27   jeremyoharris   \n",
            "8296 2021-07-04 03:53:18   Jigglypuff004   \n",
            "8300 2021-07-04 02:57:09   Marna03517387   \n",
            "8301 2021-07-04 02:25:19     Hi_ItsMeMel   \n",
            "8302 2021-07-04 02:06:11  KimberlyEStone   \n",
            "8303 2021-07-04 02:06:09       511taetae   \n",
            "8304 2021-07-04 01:22:20     merrinini94   \n",
            "8305 2021-07-04 00:43:45       DivaDelux   \n",
            "\n",
            "                                                   text               source  \\\n",
            "8292  @jeremyoharris @gucci @Cartier Why are you dep...  Twitter for Android   \n",
            "8294  @Jigglypuff004 @gucci @Cartier Oh my god I lov...   Twitter for iPhone   \n",
            "8295  @MagdaRomanska @gucci @Cartier Too much too qu...   Twitter for iPhone   \n",
            "8296  @jeremyoharris @gucci @Cartier look like u jus...   Twitter for iPhone   \n",
            "8300  @Washing61101550 @WeChatApp @Cartier <U+817E><...   Twitter for iPhone   \n",
            "8301  @AAOsAwesomeFans @Cartier I know <U+0001F60D><...  Twitter for Android   \n",
            "8302  @TaylorRooks Play by Play, we need to get 10 #...      Twitter Web App   \n",
            "8303  Are they with @Cartier now?<U+0001F60D><U+0001...   Twitter for iPhone   \n",
            "8304           Come on @Cartier https://t.co/BlEoCD0WE2  Twitter for Android   \n",
            "8305  @jeremyoharris @gucci @Cartier <U+0001F525><U+...   Twitter for iPhone   \n",
            "\n",
            "      display_text_width  is_quote  is_retweet  ...   account_created_at  \\\n",
            "8292                  46     False       False  ...  2010-10-14 22:45:19   \n",
            "8294                  20     False       False  ...  2010-03-02 09:50:35   \n",
            "8295                 160     False       False  ...  2010-03-02 09:50:35   \n",
            "8296                  98     False       False  ...  2017-12-18 04:49:49   \n",
            "8300                  68     False       False  ...  2021-06-19 23:42:10   \n",
            "8301                   9     False       False  ...  2013-10-21 20:53:56   \n",
            "8302                  97     False       False  ...  2010-07-11 16:36:14   \n",
            "8303                  30      True       False  ...  2009-07-17 13:20:55   \n",
            "8304                  16      True       False  ...  2021-05-28 05:08:08   \n",
            "8305                   3     False       False  ...  2009-01-27 23:00:30   \n",
            "\n",
            "      verified              profile_url  \\\n",
            "8292     False  https://t.co/JDV5QElF7B   \n",
            "8294      True  https://t.co/xDSXs2Qpyd   \n",
            "8295      True  https://t.co/xDSXs2Qpyd   \n",
            "8296     False                      NaN   \n",
            "8300     False                      NaN   \n",
            "8301     False                      NaN   \n",
            "8302     False  https://t.co/O5Pbwud5kY   \n",
            "8303     False                      NaN   \n",
            "8304     False                      NaN   \n",
            "8305      True  https://t.co/jR0eiNHZ7B   \n",
            "\n",
            "                                   profile_expanded_url account_lang  \\\n",
            "8292                          http://magdaromanska.com/          NaN   \n",
            "8294  https://almeida.co.uk/whats-on/daddy/30-mar-20...          NaN   \n",
            "8295  https://almeida.co.uk/whats-on/daddy/30-mar-20...          NaN   \n",
            "8296                                                NaN          NaN   \n",
            "8300                                                NaN          NaN   \n",
            "8301                                                NaN          NaN   \n",
            "8302  https://800casting.com/profile/129134#view=Pho...          NaN   \n",
            "8303                                                NaN          NaN   \n",
            "8304                                                NaN          NaN   \n",
            "8305                         http://linktr.ee/divadelux          NaN   \n",
            "\n",
            "                                     profile_banner_url  \\\n",
            "8292  https://pbs.twimg.com/profile_banners/20283204...   \n",
            "8294  https://pbs.twimg.com/profile_banners/11899033...   \n",
            "8295  https://pbs.twimg.com/profile_banners/11899033...   \n",
            "8296  https://pbs.twimg.com/profile_banners/94261787...   \n",
            "8300  https://pbs.twimg.com/profile_banners/14063968...   \n",
            "8301  https://pbs.twimg.com/profile_banners/21478068...   \n",
            "8302  https://pbs.twimg.com/profile_banners/16545614...   \n",
            "8303  https://pbs.twimg.com/profile_banners/57640635...   \n",
            "8304                                                NaN   \n",
            "8305  https://pbs.twimg.com/profile_banners/19622952...   \n",
            "\n",
            "                                 profile_background_url  \\\n",
            "8292  http://abs.twimg.com/images/themes/theme14/bg.gif   \n",
            "8294   http://abs.twimg.com/images/themes/theme9/bg.gif   \n",
            "8295   http://abs.twimg.com/images/themes/theme9/bg.gif   \n",
            "8296                                                NaN   \n",
            "8300                                                NaN   \n",
            "8301  http://abs.twimg.com/images/themes/theme13/bg.gif   \n",
            "8302   http://abs.twimg.com/images/themes/theme1/bg.png   \n",
            "8303  http://abs.twimg.com/images/themes/theme12/bg.gif   \n",
            "8304                                                NaN   \n",
            "8305  http://abs.twimg.com/images/themes/theme12/bg.gif   \n",
            "\n",
            "                                      profile_image_url    Brand   date  \n",
            "8292  http://pbs.twimg.com/profile_images/1200697887...  Cartier  07-04  \n",
            "8294  http://pbs.twimg.com/profile_images/2491637275...  Cartier  07-04  \n",
            "8295  http://pbs.twimg.com/profile_images/2491637275...  Cartier  07-04  \n",
            "8296  http://pbs.twimg.com/profile_images/1401708669...  Cartier  07-04  \n",
            "8300  http://pbs.twimg.com/profile_images/1410930058...  Cartier  07-04  \n",
            "8301  http://pbs.twimg.com/profile_images/1407027496...  Cartier  07-04  \n",
            "8302  http://pbs.twimg.com/profile_images/1411165423...  Cartier  07-04  \n",
            "8303  http://pbs.twimg.com/profile_images/1411136744...  Cartier  07-04  \n",
            "8304  http://pbs.twimg.com/profile_images/1402055410...  Cartier  07-04  \n",
            "8305  http://pbs.twimg.com/profile_images/1217479959...  Cartier  07-04  \n",
            "\n",
            "[10 rows x 78 columns]\n",
            "0.7965116279069767\n"
          ]
        }
      ]
    },
    {
      "cell_type": "markdown",
      "source": [
        "C. Explore the database. What other insights can be obtained?"
      ],
      "metadata": {
        "id": "zmwc-r8f8LIj"
      }
    },
    {
      "cell_type": "markdown",
      "source": [
        "C1. Which countries are tweeting"
      ],
      "metadata": {
        "id": "O9QAJP7Q8N1H"
      }
    },
    {
      "cell_type": "code",
      "source": [
        "country_counts = df['country_code'].value_counts(dropna=False)\n",
        "print(country_counts)"
      ],
      "metadata": {
        "id": "YVLVa7kS8L0x"
      },
      "execution_count": null,
      "outputs": []
    },
    {
      "cell_type": "markdown",
      "source": [
        "C2. Which device/source is most used for tweets"
      ],
      "metadata": {
        "id": "PLpJz3mC8YOn"
      }
    },
    {
      "cell_type": "code",
      "source": [
        "source_counts = df['source'].value_counts()\n",
        "print(source_counts.head())"
      ],
      "metadata": {
        "id": "bxh8NKvO8egb"
      },
      "execution_count": null,
      "outputs": []
    },
    {
      "cell_type": "markdown",
      "source": [
        "C3. Language"
      ],
      "metadata": {
        "id": "Qrsxij9e8gf7"
      }
    },
    {
      "cell_type": "code",
      "source": [
        "lang_counts = df['lang'].value_counts()\n",
        "print(lang_counts)"
      ],
      "metadata": {
        "id": "j06ZQung8hv7"
      },
      "execution_count": null,
      "outputs": []
    },
    {
      "cell_type": "markdown",
      "source": [
        "C4. Source"
      ],
      "metadata": {
        "id": "XCrxNOA48j2A"
      }
    },
    {
      "cell_type": "code",
      "source": [
        "top_sources = df['source'].value_counts().head(10)\n",
        "print(top_sources)\n",
        "source_brand_counts = df.groupby(['source', 'Brand']).size().unstack(fill_value=0)\n",
        "print(source_brand_counts)"
      ],
      "metadata": {
        "id": "AYH8HkZp8k8U"
      },
      "execution_count": null,
      "outputs": []
    },
    {
      "cell_type": "markdown",
      "source": [
        "C5. Author"
      ],
      "metadata": {
        "id": "MfXNnTvW8nJF"
      }
    },
    {
      "cell_type": "code",
      "source": [
        "top_user_ids = df['user_id'].value_counts().head(10)\n",
        "top_screen_names = df['screen_name'].value_counts().head(10)\n",
        "omega_screen_names = df[df['Brand'] == 'Omega']['screen_name'].value_counts().head(10)\n",
        "cartier_screen_names = df[df['Brand'] == 'Cartier']['screen_name'].value_counts().head(10)\n",
        "rolex_screen_names = df[df['Brand'] == 'Rolex']['screen_name'].value_counts().head(10)\n",
        "print(top_user_ids)\n",
        "print(top_screen_names)\n",
        "print(omega_screen_names)\n",
        "print(cartier_screen_names)\n",
        "print(rolex_screen_names)\n"
      ],
      "metadata": {
        "id": "pOQ-gKhCcNoB"
      },
      "execution_count": null,
      "outputs": []
    }
  ]
}